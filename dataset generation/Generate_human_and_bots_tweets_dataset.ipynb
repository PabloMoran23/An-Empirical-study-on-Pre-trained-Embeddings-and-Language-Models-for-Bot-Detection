{
  "nbformat": 4,
  "nbformat_minor": 0,
  "metadata": {
    "colab": {
      "name": "Generate human and bots tweets dataset.ipynb",
      "provenance": []
    },
    "kernelspec": {
      "name": "python3",
      "display_name": "Python 3"
    }
  },
  "cells": [
    {
      "cell_type": "markdown",
      "metadata": {
        "id": "1Hbg8VoPLn6o",
        "colab_type": "text"
      },
      "source": [
        "# Connect to Google Drive to access the files"
      ]
    },
    {
      "cell_type": "code",
      "metadata": {
        "id": "CWDHUbL8LSRu",
        "colab_type": "code",
        "colab": {
          "base_uri": "https://localhost:8080/",
          "height": 131
        },
        "outputId": "b8013ad4-290f-47e4-a39d-854c916d71dc"
      },
      "source": [
        "from google.colab import drive\n",
        "drive.mount('/drive',force_remount=True)"
      ],
      "execution_count": 1,
      "outputs": [
        {
          "output_type": "stream",
          "text": [
            "Go to this URL in a browser: https://accounts.google.com/o/oauth2/auth?client_id=947318989803-6bn6qk8qdgf4n4g3pfee6491hc0brc4i.apps.googleusercontent.com&redirect_uri=urn%3Aietf%3Awg%3Aoauth%3A2.0%3Aoob&scope=email%20https%3A%2F%2Fwww.googleapis.com%2Fauth%2Fdocs.test%20https%3A%2F%2Fwww.googleapis.com%2Fauth%2Fdrive%20https%3A%2F%2Fwww.googleapis.com%2Fauth%2Fdrive.photos.readonly%20https%3A%2F%2Fwww.googleapis.com%2Fauth%2Fpeopleapi.readonly&response_type=code\n",
            "\n",
            "Enter your authorization code:\n",
            "··········\n",
            "Mounted at /drive\n"
          ],
          "name": "stdout"
        }
      ]
    },
    {
      "cell_type": "markdown",
      "metadata": {
        "id": "rbIuYD-0LUMN",
        "colab_type": "text"
      },
      "source": [
        "## Read and prepare the dataset"
      ]
    },
    {
      "cell_type": "code",
      "metadata": {
        "id": "X3a1QlvEMLR7",
        "colab_type": "code",
        "colab": {}
      },
      "source": [
        "import pandas as pd\n",
        "import numpy as np"
      ],
      "execution_count": 0,
      "outputs": []
    },
    {
      "cell_type": "code",
      "metadata": {
        "id": "evU6AP0TMSIP",
        "colab_type": "code",
        "colab": {}
      },
      "source": [
        "dataset_file_tweets_humans=\"/drive/My Drive/app/data/evaluation/tweets-humans.csv\"\n",
        "dataset_file_tweets_bots=\"/drive/My Drive/app/data/evaluation/tweets-bots.csv\""
      ],
      "execution_count": 0,
      "outputs": []
    },
    {
      "cell_type": "code",
      "metadata": {
        "id": "pJWr_rBVLWvY",
        "colab_type": "code",
        "colab": {}
      },
      "source": [
        "with open(dataset_file_tweets_humans, \"r\", encoding='utf-8', errors=\"surrogatepass\") as file:\n",
        "  dataset_tweets_humans = pd.read_csv(file)\n",
        "  \n",
        "dataset_tweets_humans['label'] = 0\n",
        "\n",
        "with open(dataset_file_tweets_bots, \"r\", encoding='utf-8', errors=\"surrogatepass\") as file:\n",
        "  dataset_tweets_bots = pd.read_csv(file)\n",
        "  \n",
        "dataset_tweets_bots['label'] = 1\n",
        "\n",
        "dataset_complete = dataset_tweets_humans.append(dataset_tweets_bots,ignore_index=True)"
      ],
      "execution_count": 0,
      "outputs": []
    },
    {
      "cell_type": "markdown",
      "metadata": {
        "id": "k7ZEcJPnNajs",
        "colab_type": "text"
      },
      "source": [
        "This dataset contains users that appear in both categories, so we delete them."
      ]
    },
    {
      "cell_type": "code",
      "metadata": {
        "id": "pz5N9mACMFzg",
        "colab_type": "code",
        "colab": {}
      },
      "source": [
        "intersect = np.intersect1d(dataset_tweets_humans.groupby('user').size().index.values,dataset_tweets_bots.groupby('user').size().index.values)\n",
        "\n",
        "for user in intersect:\n",
        "  dataset_complete = dataset_complete[dataset_complete['user'] != user]"
      ],
      "execution_count": 0,
      "outputs": []
    },
    {
      "cell_type": "markdown",
      "metadata": {
        "id": "bEOiRH1rOqRk",
        "colab_type": "text"
      },
      "source": [
        "Now we are going to take a random sample of 500000 tweets for training and 100000 tweets for testing."
      ]
    },
    {
      "cell_type": "code",
      "metadata": {
        "id": "fu05eLClOool",
        "colab_type": "code",
        "colab": {}
      },
      "source": [
        "# Take a random sample of 500000 tweets for training set\n",
        "dataset_train = dataset_complete.sample(n=500000)\n",
        "\n",
        "# tweets not in training set\n",
        "dataset_complement = dataset_complete.loc[dataset_complete.index.difference(dataset_train.index),:]\n",
        "\n",
        "# take a random sample of 100k in the complementary set\n",
        "dataset_test = dataset_complement.sample(n=100000)"
      ],
      "execution_count": 0,
      "outputs": []
    },
    {
      "cell_type": "markdown",
      "metadata": {
        "id": "DpP3YPAkQvHn",
        "colab_type": "text"
      },
      "source": [
        "We can save our training and test dataset"
      ]
    },
    {
      "cell_type": "code",
      "metadata": {
        "id": "buRiLDNsQK1z",
        "colab_type": "code",
        "colab": {}
      },
      "source": [
        "dataset_train.to_csv('/drive/My Drive/app/tweets-humans-and-bots-train.csv')\n",
        "dataset_test.to_csv('/drive/My Drive/app/tweets-humans-and-bots-test.csv')"
      ],
      "execution_count": 0,
      "outputs": []
    },
    {
      "cell_type": "markdown",
      "metadata": {
        "id": "S21Aymr8SGWg",
        "colab_type": "text"
      },
      "source": [
        "Now we have generated our training and test datasets"
      ]
    }
  ]
}
