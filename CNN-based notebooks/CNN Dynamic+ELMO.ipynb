{
 "cells": [
  {
   "cell_type": "markdown",
   "metadata": {},
   "source": [
    "# CNN Dynamic + ELMO \n",
    "This is one of the experiments with the CNN (Convolutional Neural Network) using random trainable (dynamic) and ELMO embeddings. Please note that we previously had to obtain the ELMO embeddings file for the preprocessed dataset."
   ]
  },
  {
   "cell_type": "code",
   "execution_count": 1,
   "metadata": {},
   "outputs": [
    {
     "name": "stderr",
     "output_type": "stream",
     "text": [
      "Using TensorFlow backend.\n"
     ]
    }
   ],
   "source": [
    "from keras.preprocessing.text import Tokenizer\n",
    "from keras.preprocessing.sequence import pad_sequences\n",
    "from keras.layers import Embedding, Input, Conv1D, MaxPooling1D, Flatten, Dense, Dropout, LSTM, Concatenate, Bidirectional\n",
    "from keras.models import Model, Sequential\n",
    "from keras.metrics import categorical_accuracy\n",
    "from keras.metrics import binary_accuracy\n",
    "from keras.utils import to_categorical\n",
    "from keras.optimizers import Adam\n",
    "from sklearn.preprocessing import MultiLabelBinarizer\n",
    "from sklearn.metrics import classification_report, f1_score, precision_score, recall_score, accuracy_score\n",
    "from sklearn.model_selection import KFold\n",
    "import numpy as np\n",
    "import json\n",
    "import pandas as pd\n",
    "import h5py"
   ]
  },
  {
   "cell_type": "code",
   "execution_count": 2,
   "metadata": {},
   "outputs": [],
   "source": [
    "texts = []\n",
    "texts_valid = []\n",
    "labels_index = {}\n",
    "labels = []\n",
    "labels_valid = []\n",
    "word_index = {}\n",
    "mlb = MultiLabelBinarizer()\n",
    "max_nb_words = 20000 # vocabulary size\n",
    "#h5path = '/media/ssd/mydataset.hdf5'\n",
    "h5path = '/media/ssd/mydataset-preprocessed.hdf5'\n",
    "embedding_size = 1024\n",
    "kfold = KFold(n_splits=10, shuffle=True)\n",
    "max_sequence_length = 50"
   ]
  },
  {
   "cell_type": "code",
   "execution_count": 4,
   "metadata": {},
   "outputs": [],
   "source": [
    "dataset_file=\"../data/train-preprocessed.tsv\"\n",
    "#dataset_file=\"../data/train.tsv\"\n",
    "dataset_sample= pd.read_csv(dataset_file,sep='\\t',header=None,names=['user','label','none','text'],usecols=['label','text'])"
   ]
  },
  {
   "cell_type": "code",
   "execution_count": 5,
   "metadata": {},
   "outputs": [],
   "source": [
    "#Prepare training data\n",
    "for indx, doc in dataset_sample.iterrows():\n",
    "  fields = [doc[\"label\"]]\n",
    "  label_ids = set()\n",
    "  for field in fields:\n",
    "      # Check if the field is already stored and if not, assign a new label to it.\n",
    "      if field not in labels_index:\n",
    "          label_id = len(labels_index)\n",
    "          labels_index[field] = label_id\n",
    "      else:\n",
    "          label_id = labels_index[field]\n",
    "      # Add the corresponding field label\n",
    "      label_ids.add(label_id)\n",
    "  texts.append(doc[\"text\"])\n",
    "  labels.append(label_ids)"
   ]
  },
  {
   "cell_type": "code",
   "execution_count": 6,
   "metadata": {},
   "outputs": [
    {
     "name": "stdout",
     "output_type": "stream",
     "text": [
      "Found 19999 unique tokens.\n",
      "Shape of data tensor: (500000, 50)\n",
      "Shape of label tensor: (500000, 2)\n"
     ]
    }
   ],
   "source": [
    "# Tokenize the sentences of all the articles\n",
    "tokenizer = Tokenizer(num_words=max_nb_words)\n",
    "tokenizer.fit_on_texts(texts)\n",
    "sequences = tokenizer.texts_to_sequences(texts)\n",
    "\n",
    "# Get the vocabulary index\n",
    "# word_index = tokenizer.word_index\n",
    "word_index = { w:c for (w,c) in tokenizer.word_index.items() if c < max_nb_words}\n",
    "print(\"Found %s unique tokens.\" % len(word_index))\n",
    "\n",
    "# Fit the sequences into the maximum length\n",
    "data = pad_sequences(sequences, maxlen=max_sequence_length, padding=\"post\", truncating=\"post\")\n",
    "print(\"Shape of data tensor:\", data.shape)\n",
    "# Transform the labels into a binary vector, with one element for each category\n",
    "labels_cat = mlb.fit_transform(labels)\n",
    "\n",
    "print(\"Shape of label tensor:\", labels_cat.shape)\n"
   ]
  },
  {
   "cell_type": "markdown",
   "metadata": {},
   "source": [
    "# Embeddings"
   ]
  },
  {
   "cell_type": "markdown",
   "metadata": {},
   "source": [
    "## ELMO"
   ]
  },
  {
   "cell_type": "markdown",
   "metadata": {},
   "source": [
    "This is to pass data in order to work with mixing embeddgings"
   ]
  },
  {
   "cell_type": "code",
   "execution_count": 8,
   "metadata": {},
   "outputs": [],
   "source": [
    "def gen_elmo_tweets_embeddings (h5path, indices,batchSize, shuffle,data):  \n",
    "  db = h5py.File(h5path, \"r\")\n",
    "  while True:\n",
    "    if shuffle:\n",
    "        np.random.shuffle(indices)\n",
    "    for i in range(0, len(indices), batchSize):\n",
    "        batch_indices = indices[i:i+batchSize]\n",
    "        batch_indices.sort()\n",
    "        \n",
    "        bx = db['mydataset'][batch_indices,:max_sequence_length,:]\n",
    "        by = db[\"labels\"][batch_indices,:]\n",
    "\n",
    "        yield ([bx,data[batch_indices]], by)"
   ]
  },
  {
   "cell_type": "markdown",
   "metadata": {},
   "source": [
    "# CNN"
   ]
  },
  {
   "cell_type": "markdown",
   "metadata": {},
   "source": [
    "## Random + ELMO"
   ]
  },
  {
   "cell_type": "code",
   "execution_count": null,
   "metadata": {},
   "outputs": [
    {
     "name": "stdout",
     "output_type": "stream",
     "text": [
      "__________________________________________________________________________________________________\n",
      "Layer (type)                    Output Shape         Param #     Connected to                     \n",
      "==================================================================================================\n",
      "input_4 (InputLayer)            (None, 50)           0                                            \n",
      "__________________________________________________________________________________________________\n",
      "embedding_2 (Embedding)         (None, 50, 300)      6000000     input_4[0][0]                    \n",
      "__________________________________________________________________________________________________\n",
      "input_3 (InputLayer)            (None, 50, 1024)     0                                            \n",
      "__________________________________________________________________________________________________\n",
      "concatenate_2 (Concatenate)     (None, 50, 1324)     0           embedding_2[0][0]                \n",
      "                                                                 input_3[0][0]                    \n",
      "__________________________________________________________________________________________________\n",
      "conv1d_4 (Conv1D)               (None, 46, 128)      847488      concatenate_2[0][0]              \n",
      "__________________________________________________________________________________________________\n",
      "max_pooling1d_4 (MaxPooling1D)  (None, 23, 128)      0           conv1d_4[0][0]                   \n",
      "__________________________________________________________________________________________________\n",
      "conv1d_5 (Conv1D)               (None, 19, 128)      82048       max_pooling1d_4[0][0]            \n",
      "__________________________________________________________________________________________________\n",
      "max_pooling1d_5 (MaxPooling1D)  (None, 9, 128)       0           conv1d_5[0][0]                   \n",
      "__________________________________________________________________________________________________\n",
      "conv1d_6 (Conv1D)               (None, 5, 128)       82048       max_pooling1d_5[0][0]            \n",
      "__________________________________________________________________________________________________\n",
      "max_pooling1d_6 (MaxPooling1D)  (None, 1, 128)       0           conv1d_6[0][0]                   \n",
      "__________________________________________________________________________________________________\n",
      "flatten_2 (Flatten)             (None, 128)          0           max_pooling1d_6[0][0]            \n",
      "__________________________________________________________________________________________________\n",
      "dense_3 (Dense)                 (None, 128)          16512       flatten_2[0][0]                  \n",
      "__________________________________________________________________________________________________\n",
      "dense_4 (Dense)                 (None, 2)            258         dense_3[0][0]                    \n",
      "==================================================================================================\n",
      "Total params: 7,028,354\n",
      "Trainable params: 7,028,354\n",
      "Non-trainable params: 0\n",
      "__________________________________________________________________________________________________\n",
      "None\n",
      "Epoch 1/5\n",
      "4500/4500 [==============================] - 749s 166ms/step - loss: 0.4740 - categorical_accuracy: 0.7695 - val_loss: 0.4337 - val_categorical_accuracy: 0.7978\n",
      "Epoch 2/5\n",
      "4500/4500 [==============================] - 777s 173ms/step - loss: 0.4061 - categorical_accuracy: 0.8107 - val_loss: 0.4198 - val_categorical_accuracy: 0.8031\n",
      "Epoch 3/5\n",
      "   3/4500 [..............................] - ETA: 27:54 - loss: 0.4208 - categorical_accuracy: 0.8067"
     ]
    },
    {
     "name": "stderr",
     "output_type": "stream",
     "text": [
      "/home/test/anaconda3/envs/tf_gpu/lib/python3.6/site-packages/keras/callbacks.py:122: UserWarning: Method on_batch_end() is slow compared to the batch update (0.117160). Check your callbacks.\n",
      "  % delta_t_median)\n",
      "/home/test/anaconda3/envs/tf_gpu/lib/python3.6/site-packages/keras/callbacks.py:122: UserWarning: Method on_batch_end() is slow compared to the batch update (0.109295). Check your callbacks.\n",
      "  % delta_t_median)\n"
     ]
    },
    {
     "name": "stdout",
     "output_type": "stream",
     "text": [
      "4500/4500 [==============================] - 852s 189ms/step - loss: 0.3700 - categorical_accuracy: 0.8315 - val_loss: 0.4115 - val_categorical_accuracy: 0.8071\n",
      "Epoch 4/5\n",
      "4500/4500 [==============================] - 875s 194ms/step - loss: 0.3302 - categorical_accuracy: 0.8534 - val_loss: 0.4279 - val_categorical_accuracy: 0.8044\n",
      "Epoch 5/5\n",
      "   3/4500 [..............................] - ETA: 19:01 - loss: 0.2884 - categorical_accuracy: 0.8800"
     ]
    },
    {
     "name": "stderr",
     "output_type": "stream",
     "text": [
      "/home/test/anaconda3/envs/tf_gpu/lib/python3.6/site-packages/keras/callbacks.py:122: UserWarning: Method on_batch_end() is slow compared to the batch update (0.150470). Check your callbacks.\n",
      "  % delta_t_median)\n"
     ]
    },
    {
     "name": "stdout",
     "output_type": "stream",
     "text": [
      "4500/4500 [==============================] - 765s 170ms/step - loss: 0.2904 - categorical_accuracy: 0.8741 - val_loss: 0.4527 - val_categorical_accuracy: 0.8049\n",
      "(50000, 2)\n",
      "              precision    recall  f1-score   support\n",
      "\n",
      "           0     0.8268    0.7065    0.7619     22088\n",
      "           1     0.7917    0.8828    0.8348     27912\n",
      "\n",
      "   micro avg     0.8049    0.8049    0.8049     50000\n",
      "   macro avg     0.8092    0.7947    0.7984     50000\n",
      "weighted avg     0.8072    0.8049    0.8026     50000\n",
      " samples avg     0.8049    0.8049    0.8049     50000\n",
      "\n",
      "__________________________________________________________________________________________________\n",
      "Layer (type)                    Output Shape         Param #     Connected to                     \n",
      "==================================================================================================\n",
      "input_6 (InputLayer)            (None, 50)           0                                            \n",
      "__________________________________________________________________________________________________\n",
      "embedding_3 (Embedding)         (None, 50, 300)      6000000     input_6[0][0]                    \n",
      "__________________________________________________________________________________________________\n",
      "input_5 (InputLayer)            (None, 50, 1024)     0                                            \n",
      "__________________________________________________________________________________________________\n",
      "concatenate_3 (Concatenate)     (None, 50, 1324)     0           embedding_3[0][0]                \n",
      "                                                                 input_5[0][0]                    \n",
      "__________________________________________________________________________________________________\n",
      "conv1d_7 (Conv1D)               (None, 46, 128)      847488      concatenate_3[0][0]              \n",
      "__________________________________________________________________________________________________\n",
      "max_pooling1d_7 (MaxPooling1D)  (None, 23, 128)      0           conv1d_7[0][0]                   \n",
      "__________________________________________________________________________________________________\n",
      "conv1d_8 (Conv1D)               (None, 19, 128)      82048       max_pooling1d_7[0][0]            \n",
      "__________________________________________________________________________________________________\n",
      "max_pooling1d_8 (MaxPooling1D)  (None, 9, 128)       0           conv1d_8[0][0]                   \n",
      "__________________________________________________________________________________________________\n",
      "conv1d_9 (Conv1D)               (None, 5, 128)       82048       max_pooling1d_8[0][0]            \n",
      "__________________________________________________________________________________________________\n",
      "max_pooling1d_9 (MaxPooling1D)  (None, 1, 128)       0           conv1d_9[0][0]                   \n",
      "__________________________________________________________________________________________________\n",
      "flatten_3 (Flatten)             (None, 128)          0           max_pooling1d_9[0][0]            \n",
      "__________________________________________________________________________________________________\n",
      "dense_5 (Dense)                 (None, 128)          16512       flatten_3[0][0]                  \n",
      "__________________________________________________________________________________________________\n",
      "dense_6 (Dense)                 (None, 2)            258         dense_5[0][0]                    \n",
      "==================================================================================================\n",
      "Total params: 7,028,354\n",
      "Trainable params: 7,028,354\n",
      "Non-trainable params: 0\n",
      "__________________________________________________________________________________________________\n",
      "None\n",
      "Epoch 1/5\n",
      "4500/4500 [==============================] - 762s 169ms/step - loss: 0.4734 - categorical_accuracy: 0.7695 - val_loss: 0.4352 - val_categorical_accuracy: 0.7966\n",
      "Epoch 2/5\n",
      "   2/4500 [..............................] - ETA: 24:14 - loss: 0.4008 - categorical_accuracy: 0.8300"
     ]
    },
    {
     "name": "stderr",
     "output_type": "stream",
     "text": [
      "/home/test/anaconda3/envs/tf_gpu/lib/python3.6/site-packages/keras/callbacks.py:122: UserWarning: Method on_batch_end() is slow compared to the batch update (0.220116). Check your callbacks.\n",
      "  % delta_t_median)\n"
     ]
    },
    {
     "name": "stdout",
     "output_type": "stream",
     "text": [
      "   5/4500 [..............................] - ETA: 26:59 - loss: 0.4039 - categorical_accuracy: 0.8280"
     ]
    },
    {
     "name": "stderr",
     "output_type": "stream",
     "text": [
      "/home/test/anaconda3/envs/tf_gpu/lib/python3.6/site-packages/keras/callbacks.py:122: UserWarning: Method on_batch_end() is slow compared to the batch update (0.229908). Check your callbacks.\n",
      "  % delta_t_median)\n",
      "/home/test/anaconda3/envs/tf_gpu/lib/python3.6/site-packages/keras/callbacks.py:122: UserWarning: Method on_batch_end() is slow compared to the batch update (0.178323). Check your callbacks.\n",
      "  % delta_t_median)\n"
     ]
    },
    {
     "name": "stdout",
     "output_type": "stream",
     "text": [
      "4500/4500 [==============================] - 840s 187ms/step - loss: 0.4053 - categorical_accuracy: 0.8108 - val_loss: 0.4154 - val_categorical_accuracy: 0.8045\n",
      "Epoch 3/5\n",
      "   4/4500 [..............................] - ETA: 25:17 - loss: 0.3515 - categorical_accuracy: 0.8525"
     ]
    },
    {
     "name": "stderr",
     "output_type": "stream",
     "text": [
      "/home/test/anaconda3/envs/tf_gpu/lib/python3.6/site-packages/keras/callbacks.py:122: UserWarning: Method on_batch_end() is slow compared to the batch update (0.122481). Check your callbacks.\n",
      "  % delta_t_median)\n"
     ]
    },
    {
     "name": "stdout",
     "output_type": "stream",
     "text": [
      "4500/4500 [==============================] - 885s 197ms/step - loss: 0.3715 - categorical_accuracy: 0.8299 - val_loss: 0.4141 - val_categorical_accuracy: 0.8115\n",
      "Epoch 4/5\n",
      "  18/4500 [..............................] - ETA: 15:41 - loss: 0.3260 - categorical_accuracy: 0.8533"
     ]
    },
    {
     "name": "stderr",
     "output_type": "stream",
     "text": [
      "/home/test/anaconda3/envs/tf_gpu/lib/python3.6/site-packages/keras/callbacks.py:122: UserWarning: Method on_batch_end() is slow compared to the batch update (0.119322). Check your callbacks.\n",
      "  % delta_t_median)\n"
     ]
    },
    {
     "name": "stdout",
     "output_type": "stream",
     "text": [
      "4500/4500 [==============================] - 778s 173ms/step - loss: 0.3350 - categorical_accuracy: 0.8507 - val_loss: 0.4231 - val_categorical_accuracy: 0.8085\n",
      "Epoch 5/5\n",
      "   3/4500 [..............................] - ETA: 26:26 - loss: 0.3081 - categorical_accuracy: 0.8700"
     ]
    },
    {
     "name": "stderr",
     "output_type": "stream",
     "text": [
      "/home/test/anaconda3/envs/tf_gpu/lib/python3.6/site-packages/keras/callbacks.py:122: UserWarning: Method on_batch_end() is slow compared to the batch update (0.162537). Check your callbacks.\n",
      "  % delta_t_median)\n"
     ]
    },
    {
     "name": "stdout",
     "output_type": "stream",
     "text": [
      "   6/4500 [..............................] - ETA: 24:34 - loss: 0.3054 - categorical_accuracy: 0.8733"
     ]
    },
    {
     "name": "stderr",
     "output_type": "stream",
     "text": [
      "/home/test/anaconda3/envs/tf_gpu/lib/python3.6/site-packages/keras/callbacks.py:122: UserWarning: Method on_batch_end() is slow compared to the batch update (0.115846). Check your callbacks.\n",
      "  % delta_t_median)\n"
     ]
    },
    {
     "name": "stdout",
     "output_type": "stream",
     "text": [
      "   7/4500 [..............................] - ETA: 26:55 - loss: 0.3010 - categorical_accuracy: 0.8757"
     ]
    },
    {
     "name": "stderr",
     "output_type": "stream",
     "text": [
      "/home/test/anaconda3/envs/tf_gpu/lib/python3.6/site-packages/keras/callbacks.py:122: UserWarning: Method on_batch_end() is slow compared to the batch update (0.164862). Check your callbacks.\n",
      "  % delta_t_median)\n"
     ]
    },
    {
     "name": "stdout",
     "output_type": "stream",
     "text": [
      "   8/4500 [..............................] - ETA: 24:32 - loss: 0.2941 - categorical_accuracy: 0.8800"
     ]
    },
    {
     "name": "stderr",
     "output_type": "stream",
     "text": [
      "/home/test/anaconda3/envs/tf_gpu/lib/python3.6/site-packages/keras/callbacks.py:122: UserWarning: Method on_batch_end() is slow compared to the batch update (0.113521). Check your callbacks.\n",
      "  % delta_t_median)\n"
     ]
    },
    {
     "name": "stdout",
     "output_type": "stream",
     "text": [
      "  11/4500 [..............................] - ETA: 20:50 - loss: 0.2950 - categorical_accuracy: 0.8791"
     ]
    },
    {
     "name": "stderr",
     "output_type": "stream",
     "text": [
      "/home/test/anaconda3/envs/tf_gpu/lib/python3.6/site-packages/keras/callbacks.py:122: UserWarning: Method on_batch_end() is slow compared to the batch update (0.104795). Check your callbacks.\n",
      "  % delta_t_median)\n"
     ]
    },
    {
     "name": "stdout",
     "output_type": "stream",
     "text": [
      "4500/4500 [==============================] - 814s 181ms/step - loss: 0.2971 - categorical_accuracy: 0.8705 - val_loss: 0.4340 - val_categorical_accuracy: 0.8129\n",
      "(50000, 2)\n",
      "              precision    recall  f1-score   support\n",
      "\n",
      "           0     0.8358    0.7193    0.7732     22171\n",
      "           1     0.7987    0.8874    0.8407     27829\n",
      "\n",
      "   micro avg     0.8129    0.8129    0.8129     50000\n",
      "   macro avg     0.8173    0.8033    0.8069     50000\n",
      "weighted avg     0.8152    0.8129    0.8108     50000\n",
      " samples avg     0.8129    0.8129    0.8129     50000\n",
      "\n",
      "__________________________________________________________________________________________________\n",
      "Layer (type)                    Output Shape         Param #     Connected to                     \n",
      "==================================================================================================\n",
      "input_8 (InputLayer)            (None, 50)           0                                            \n",
      "__________________________________________________________________________________________________\n",
      "embedding_4 (Embedding)         (None, 50, 300)      6000000     input_8[0][0]                    \n",
      "__________________________________________________________________________________________________\n",
      "input_7 (InputLayer)            (None, 50, 1024)     0                                            \n",
      "__________________________________________________________________________________________________\n",
      "concatenate_4 (Concatenate)     (None, 50, 1324)     0           embedding_4[0][0]                \n",
      "                                                                 input_7[0][0]                    \n",
      "__________________________________________________________________________________________________\n",
      "conv1d_10 (Conv1D)              (None, 46, 128)      847488      concatenate_4[0][0]              \n",
      "__________________________________________________________________________________________________\n",
      "max_pooling1d_10 (MaxPooling1D) (None, 23, 128)      0           conv1d_10[0][0]                  \n",
      "__________________________________________________________________________________________________\n",
      "conv1d_11 (Conv1D)              (None, 19, 128)      82048       max_pooling1d_10[0][0]           \n",
      "__________________________________________________________________________________________________\n",
      "max_pooling1d_11 (MaxPooling1D) (None, 9, 128)       0           conv1d_11[0][0]                  \n",
      "__________________________________________________________________________________________________\n",
      "conv1d_12 (Conv1D)              (None, 5, 128)       82048       max_pooling1d_11[0][0]           \n",
      "__________________________________________________________________________________________________\n",
      "max_pooling1d_12 (MaxPooling1D) (None, 1, 128)       0           conv1d_12[0][0]                  \n",
      "__________________________________________________________________________________________________\n",
      "flatten_4 (Flatten)             (None, 128)          0           max_pooling1d_12[0][0]           \n",
      "__________________________________________________________________________________________________\n",
      "dense_7 (Dense)                 (None, 128)          16512       flatten_4[0][0]                  \n",
      "__________________________________________________________________________________________________\n",
      "dense_8 (Dense)                 (None, 2)            258         dense_7[0][0]                    \n",
      "==================================================================================================\n",
      "Total params: 7,028,354\n",
      "Trainable params: 7,028,354\n",
      "Non-trainable params: 0\n",
      "__________________________________________________________________________________________________\n",
      "None\n",
      "Epoch 1/5\n",
      "4500/4500 [==============================] - 814s 181ms/step - loss: 0.4713 - categorical_accuracy: 0.7705 - val_loss: 0.4324 - val_categorical_accuracy: 0.7950\n",
      "Epoch 2/5\n",
      "   2/4500 [..............................] - ETA: 23:11 - loss: 0.4491 - categorical_accuracy: 0.7850"
     ]
    },
    {
     "name": "stderr",
     "output_type": "stream",
     "text": [
      "/home/test/anaconda3/envs/tf_gpu/lib/python3.6/site-packages/keras/callbacks.py:122: UserWarning: Method on_batch_end() is slow compared to the batch update (0.224945). Check your callbacks.\n",
      "  % delta_t_median)\n"
     ]
    },
    {
     "name": "stdout",
     "output_type": "stream",
     "text": [
      "   4/4500 [..............................] - ETA: 18:36 - loss: 0.4074 - categorical_accuracy: 0.8150"
     ]
    },
    {
     "name": "stderr",
     "output_type": "stream",
     "text": [
      "/home/test/anaconda3/envs/tf_gpu/lib/python3.6/site-packages/keras/callbacks.py:122: UserWarning: Method on_batch_end() is slow compared to the batch update (0.181500). Check your callbacks.\n",
      "  % delta_t_median)\n",
      "/home/test/anaconda3/envs/tf_gpu/lib/python3.6/site-packages/keras/callbacks.py:122: UserWarning: Method on_batch_end() is slow compared to the batch update (0.138055). Check your callbacks.\n",
      "  % delta_t_median)\n"
     ]
    },
    {
     "name": "stdout",
     "output_type": "stream",
     "text": [
      "4500/4500 [==============================] - 846s 188ms/step - loss: 0.4031 - categorical_accuracy: 0.8116 - val_loss: 0.4151 - val_categorical_accuracy: 0.8044\n",
      "Epoch 3/5\n",
      "4500/4500 [==============================] - 770s 171ms/step - loss: 0.3675 - categorical_accuracy: 0.8326 - val_loss: 0.4140 - val_categorical_accuracy: 0.8104\n",
      "Epoch 4/5\n",
      "4500/4500 [==============================] - 830s 185ms/step - loss: 0.3302 - categorical_accuracy: 0.8534 - val_loss: 0.4163 - val_categorical_accuracy: 0.8093\n",
      "Epoch 5/5\n",
      "   3/4500 [..............................] - ETA: 16:46 - loss: 0.2400 - categorical_accuracy: 0.9000"
     ]
    },
    {
     "name": "stderr",
     "output_type": "stream",
     "text": [
      "/home/test/anaconda3/envs/tf_gpu/lib/python3.6/site-packages/keras/callbacks.py:122: UserWarning: Method on_batch_end() is slow compared to the batch update (0.111215). Check your callbacks.\n",
      "  % delta_t_median)\n"
     ]
    },
    {
     "name": "stdout",
     "output_type": "stream",
     "text": [
      "   5/4500 [..............................] - ETA: 23:30 - loss: 0.2550 - categorical_accuracy: 0.8860"
     ]
    },
    {
     "name": "stderr",
     "output_type": "stream",
     "text": [
      "/home/test/anaconda3/envs/tf_gpu/lib/python3.6/site-packages/keras/callbacks.py:122: UserWarning: Method on_batch_end() is slow compared to the batch update (0.117797). Check your callbacks.\n",
      "  % delta_t_median)\n"
     ]
    },
    {
     "name": "stdout",
     "output_type": "stream",
     "text": [
      "   8/4500 [..............................] - ETA: 20:58 - loss: 0.2667 - categorical_accuracy: 0.8800"
     ]
    },
    {
     "name": "stderr",
     "output_type": "stream",
     "text": [
      "/home/test/anaconda3/envs/tf_gpu/lib/python3.6/site-packages/keras/callbacks.py:122: UserWarning: Method on_batch_end() is slow compared to the batch update (0.114872). Check your callbacks.\n",
      "  % delta_t_median)\n"
     ]
    },
    {
     "name": "stdout",
     "output_type": "stream",
     "text": [
      "4500/4500 [==============================] - 836s 186ms/step - loss: 0.2923 - categorical_accuracy: 0.8736 - val_loss: 0.4430 - val_categorical_accuracy: 0.8075\n",
      "(50000, 2)\n",
      "              precision    recall  f1-score   support\n",
      "\n",
      "           0     0.8239    0.7163    0.7663     22038\n",
      "           1     0.7973    0.8793    0.8363     27962\n",
      "\n",
      "   micro avg     0.8075    0.8075    0.8075     50000\n",
      "   macro avg     0.8106    0.7978    0.8013     50000\n",
      "weighted avg     0.8090    0.8075    0.8054     50000\n",
      " samples avg     0.8075    0.8075    0.8075     50000\n",
      "\n",
      "__________________________________________________________________________________________________\n",
      "Layer (type)                    Output Shape         Param #     Connected to                     \n",
      "==================================================================================================\n",
      "input_10 (InputLayer)           (None, 50)           0                                            \n",
      "__________________________________________________________________________________________________\n",
      "embedding_5 (Embedding)         (None, 50, 300)      6000000     input_10[0][0]                   \n",
      "__________________________________________________________________________________________________\n",
      "input_9 (InputLayer)            (None, 50, 1024)     0                                            \n",
      "__________________________________________________________________________________________________\n",
      "concatenate_5 (Concatenate)     (None, 50, 1324)     0           embedding_5[0][0]                \n",
      "                                                                 input_9[0][0]                    \n",
      "__________________________________________________________________________________________________\n",
      "conv1d_13 (Conv1D)              (None, 46, 128)      847488      concatenate_5[0][0]              \n",
      "__________________________________________________________________________________________________\n",
      "max_pooling1d_13 (MaxPooling1D) (None, 23, 128)      0           conv1d_13[0][0]                  \n",
      "__________________________________________________________________________________________________\n",
      "conv1d_14 (Conv1D)              (None, 19, 128)      82048       max_pooling1d_13[0][0]           \n",
      "__________________________________________________________________________________________________\n",
      "max_pooling1d_14 (MaxPooling1D) (None, 9, 128)       0           conv1d_14[0][0]                  \n",
      "__________________________________________________________________________________________________\n",
      "conv1d_15 (Conv1D)              (None, 5, 128)       82048       max_pooling1d_14[0][0]           \n",
      "__________________________________________________________________________________________________\n",
      "max_pooling1d_15 (MaxPooling1D) (None, 1, 128)       0           conv1d_15[0][0]                  \n",
      "__________________________________________________________________________________________________\n",
      "flatten_5 (Flatten)             (None, 128)          0           max_pooling1d_15[0][0]           \n",
      "__________________________________________________________________________________________________\n",
      "dense_9 (Dense)                 (None, 128)          16512       flatten_5[0][0]                  \n",
      "__________________________________________________________________________________________________\n",
      "dense_10 (Dense)                (None, 2)            258         dense_9[0][0]                    \n",
      "==================================================================================================\n",
      "Total params: 7,028,354\n",
      "Trainable params: 7,028,354\n",
      "Non-trainable params: 0\n",
      "__________________________________________________________________________________________________\n",
      "None\n",
      "Epoch 1/5\n",
      "4500/4500 [==============================] - 833s 185ms/step - loss: 0.4725 - categorical_accuracy: 0.7697 - val_loss: 0.4332 - val_categorical_accuracy: 0.7968\n",
      "Epoch 2/5\n",
      "4500/4500 [==============================] - 742s 165ms/step - loss: 0.4050 - categorical_accuracy: 0.8108 - val_loss: 0.4182 - val_categorical_accuracy: 0.8048\n",
      "Epoch 3/5\n",
      "4500/4500 [==============================] - 820s 182ms/step - loss: 0.3705 - categorical_accuracy: 0.8308 - val_loss: 0.4165 - val_categorical_accuracy: 0.8083\n",
      "Epoch 4/5\n",
      "   3/4500 [..............................] - ETA: 43:17 - loss: 0.3102 - categorical_accuracy: 0.8733"
     ]
    },
    {
     "name": "stderr",
     "output_type": "stream",
     "text": [
      "/home/test/anaconda3/envs/tf_gpu/lib/python3.6/site-packages/keras/callbacks.py:122: UserWarning: Method on_batch_end() is slow compared to the batch update (0.474227). Check your callbacks.\n",
      "  % delta_t_median)\n",
      "/home/test/anaconda3/envs/tf_gpu/lib/python3.6/site-packages/keras/callbacks.py:122: UserWarning: Method on_batch_end() is slow compared to the batch update (0.115726). Check your callbacks.\n",
      "  % delta_t_median)\n"
     ]
    },
    {
     "name": "stdout",
     "output_type": "stream",
     "text": [
      "4500/4500 [==============================] - 829s 184ms/step - loss: 0.3340 - categorical_accuracy: 0.8507 - val_loss: 0.4231 - val_categorical_accuracy: 0.8091\n",
      "Epoch 5/5\n",
      "   2/4500 [..............................] - ETA: 17:37 - loss: 0.2326 - categorical_accuracy: 0.9000"
     ]
    },
    {
     "name": "stderr",
     "output_type": "stream",
     "text": [
      "/home/test/anaconda3/envs/tf_gpu/lib/python3.6/site-packages/keras/callbacks.py:122: UserWarning: Method on_batch_end() is slow compared to the batch update (0.198865). Check your callbacks.\n",
      "  % delta_t_median)\n"
     ]
    },
    {
     "name": "stdout",
     "output_type": "stream",
     "text": [
      "   8/4500 [..............................] - ETA: 24:20 - loss: 0.3106 - categorical_accuracy: 0.8687"
     ]
    },
    {
     "name": "stderr",
     "output_type": "stream",
     "text": [
      "/home/test/anaconda3/envs/tf_gpu/lib/python3.6/site-packages/keras/callbacks.py:122: UserWarning: Method on_batch_end() is slow compared to the batch update (0.110501). Check your callbacks.\n",
      "  % delta_t_median)\n"
     ]
    },
    {
     "name": "stdout",
     "output_type": "stream",
     "text": [
      "4500/4500 [==============================] - 763s 169ms/step - loss: 0.2951 - categorical_accuracy: 0.8713 - val_loss: 0.4701 - val_categorical_accuracy: 0.8071\n",
      "(50000, 2)\n",
      "              precision    recall  f1-score   support\n",
      "\n",
      "           0     0.8270    0.7093    0.7637     21967\n",
      "           1     0.7951    0.8837    0.8371     28033\n",
      "\n",
      "   micro avg     0.8071    0.8071    0.8071     50000\n",
      "   macro avg     0.8110    0.7965    0.8004     50000\n",
      "weighted avg     0.8091    0.8071    0.8048     50000\n",
      " samples avg     0.8071    0.8071    0.8071     50000\n",
      "\n",
      "__________________________________________________________________________________________________\n",
      "Layer (type)                    Output Shape         Param #     Connected to                     \n",
      "==================================================================================================\n",
      "input_12 (InputLayer)           (None, 50)           0                                            \n",
      "__________________________________________________________________________________________________\n",
      "embedding_6 (Embedding)         (None, 50, 300)      6000000     input_12[0][0]                   \n",
      "__________________________________________________________________________________________________\n",
      "input_11 (InputLayer)           (None, 50, 1024)     0                                            \n",
      "__________________________________________________________________________________________________\n",
      "concatenate_6 (Concatenate)     (None, 50, 1324)     0           embedding_6[0][0]                \n",
      "                                                                 input_11[0][0]                   \n",
      "__________________________________________________________________________________________________\n",
      "conv1d_16 (Conv1D)              (None, 46, 128)      847488      concatenate_6[0][0]              \n",
      "__________________________________________________________________________________________________\n",
      "max_pooling1d_16 (MaxPooling1D) (None, 23, 128)      0           conv1d_16[0][0]                  \n",
      "__________________________________________________________________________________________________\n",
      "conv1d_17 (Conv1D)              (None, 19, 128)      82048       max_pooling1d_16[0][0]           \n",
      "__________________________________________________________________________________________________\n",
      "max_pooling1d_17 (MaxPooling1D) (None, 9, 128)       0           conv1d_17[0][0]                  \n",
      "__________________________________________________________________________________________________\n",
      "conv1d_18 (Conv1D)              (None, 5, 128)       82048       max_pooling1d_17[0][0]           \n",
      "__________________________________________________________________________________________________\n",
      "max_pooling1d_18 (MaxPooling1D) (None, 1, 128)       0           conv1d_18[0][0]                  \n",
      "__________________________________________________________________________________________________\n",
      "flatten_6 (Flatten)             (None, 128)          0           max_pooling1d_18[0][0]           \n",
      "__________________________________________________________________________________________________\n",
      "dense_11 (Dense)                (None, 128)          16512       flatten_6[0][0]                  \n",
      "__________________________________________________________________________________________________\n",
      "dense_12 (Dense)                (None, 2)            258         dense_11[0][0]                   \n",
      "==================================================================================================\n",
      "Total params: 7,028,354\n",
      "Trainable params: 7,028,354\n",
      "Non-trainable params: 0\n",
      "__________________________________________________________________________________________________\n",
      "None\n",
      "Epoch 1/5\n",
      "4500/4500 [==============================] - 768s 171ms/step - loss: 0.4709 - categorical_accuracy: 0.7710 - val_loss: 0.4339 - val_categorical_accuracy: 0.7941\n",
      "Epoch 2/5\n",
      "   2/4500 [..............................] - ETA: 29:59 - loss: 0.4219 - categorical_accuracy: 0.7900"
     ]
    },
    {
     "name": "stderr",
     "output_type": "stream",
     "text": [
      "/home/test/anaconda3/envs/tf_gpu/lib/python3.6/site-packages/keras/callbacks.py:122: UserWarning: Method on_batch_end() is slow compared to the batch update (0.428510). Check your callbacks.\n",
      "  % delta_t_median)\n",
      "/home/test/anaconda3/envs/tf_gpu/lib/python3.6/site-packages/keras/callbacks.py:122: UserWarning: Method on_batch_end() is slow compared to the batch update (0.218334). Check your callbacks.\n",
      "  % delta_t_median)\n"
     ]
    },
    {
     "name": "stdout",
     "output_type": "stream",
     "text": [
      "   5/4500 [..............................] - ETA: 21:54 - loss: 0.4005 - categorical_accuracy: 0.8140"
     ]
    },
    {
     "name": "stderr",
     "output_type": "stream",
     "text": [
      "/home/test/anaconda3/envs/tf_gpu/lib/python3.6/site-packages/keras/callbacks.py:122: UserWarning: Method on_batch_end() is slow compared to the batch update (0.113578). Check your callbacks.\n",
      "  % delta_t_median)\n",
      "/home/test/anaconda3/envs/tf_gpu/lib/python3.6/site-packages/keras/callbacks.py:122: UserWarning: Method on_batch_end() is slow compared to the batch update (0.129939). Check your callbacks.\n",
      "  % delta_t_median)\n"
     ]
    },
    {
     "name": "stdout",
     "output_type": "stream",
     "text": []
    },
    {
     "name": "stdout",
     "output_type": "stream",
     "text": [
      "   8/4500 [..............................] - ETA: 22:18 - loss: 0.4036 - categorical_accuracy: 0.8125"
     ]
    },
    {
     "name": "stderr",
     "output_type": "stream",
     "text": [
      "/home/test/anaconda3/envs/tf_gpu/lib/python3.6/site-packages/keras/callbacks.py:122: UserWarning: Method on_batch_end() is slow compared to the batch update (0.173894). Check your callbacks.\n",
      "  % delta_t_median)\n"
     ]
    },
    {
     "name": "stdout",
     "output_type": "stream",
     "text": [
      "4500/4500 [==============================] - 852s 189ms/step - loss: 0.4028 - categorical_accuracy: 0.8123 - val_loss: 0.4292 - val_categorical_accuracy: 0.7952\n",
      "Epoch 3/5\n",
      "   2/4500 [..............................] - ETA: 16:42 - loss: 0.4228 - categorical_accuracy: 0.7900"
     ]
    },
    {
     "name": "stderr",
     "output_type": "stream",
     "text": [
      "/home/test/anaconda3/envs/tf_gpu/lib/python3.6/site-packages/keras/callbacks.py:122: UserWarning: Method on_batch_end() is slow compared to the batch update (0.213686). Check your callbacks.\n",
      "  % delta_t_median)\n",
      "/home/test/anaconda3/envs/tf_gpu/lib/python3.6/site-packages/keras/callbacks.py:122: UserWarning: Method on_batch_end() is slow compared to the batch update (0.113735). Check your callbacks.\n",
      "  % delta_t_median)\n"
     ]
    },
    {
     "name": "stdout",
     "output_type": "stream",
     "text": [
      "4500/4500 [==============================] - 845s 188ms/step - loss: 0.3675 - categorical_accuracy: 0.8324 - val_loss: 0.4129 - val_categorical_accuracy: 0.8084\n",
      "Epoch 4/5\n",
      "   3/4500 [..............................] - ETA: 19:37 - loss: 0.3289 - categorical_accuracy: 0.8367"
     ]
    },
    {
     "name": "stderr",
     "output_type": "stream",
     "text": [
      "/home/test/anaconda3/envs/tf_gpu/lib/python3.6/site-packages/keras/callbacks.py:122: UserWarning: Method on_batch_end() is slow compared to the batch update (0.163055). Check your callbacks.\n",
      "  % delta_t_median)\n",
      "/home/test/anaconda3/envs/tf_gpu/lib/python3.6/site-packages/keras/callbacks.py:122: UserWarning: Method on_batch_end() is slow compared to the batch update (0.117846). Check your callbacks.\n",
      "  % delta_t_median)\n"
     ]
    },
    {
     "name": "stdout",
     "output_type": "stream",
     "text": [
      "   7/4500 [..............................] - ETA: 22:12 - loss: 0.3277 - categorical_accuracy: 0.8557"
     ]
    },
    {
     "name": "stderr",
     "output_type": "stream",
     "text": [
      "/home/test/anaconda3/envs/tf_gpu/lib/python3.6/site-packages/keras/callbacks.py:122: UserWarning: Method on_batch_end() is slow compared to the batch update (0.208264). Check your callbacks.\n",
      "  % delta_t_median)\n"
     ]
    },
    {
     "name": "stdout",
     "output_type": "stream",
     "text": [
      "  11/4500 [..............................] - ETA: 19:42 - loss: 0.3451 - categorical_accuracy: 0.8445"
     ]
    },
    {
     "name": "stderr",
     "output_type": "stream",
     "text": [
      "/home/test/anaconda3/envs/tf_gpu/lib/python3.6/site-packages/keras/callbacks.py:122: UserWarning: Method on_batch_end() is slow compared to the batch update (0.115125). Check your callbacks.\n",
      "  % delta_t_median)\n"
     ]
    },
    {
     "name": "stdout",
     "output_type": "stream",
     "text": [
      "4500/4500 [==============================] - 831s 185ms/step - loss: 0.3317 - categorical_accuracy: 0.8520 - val_loss: 0.4191 - val_categorical_accuracy: 0.8103\n",
      "Epoch 5/5\n",
      "   2/4500 [..............................] - ETA: 16:15 - loss: 0.2917 - categorical_accuracy: 0.8900"
     ]
    },
    {
     "name": "stderr",
     "output_type": "stream",
     "text": [
      "/home/test/anaconda3/envs/tf_gpu/lib/python3.6/site-packages/keras/callbacks.py:122: UserWarning: Method on_batch_end() is slow compared to the batch update (0.203239). Check your callbacks.\n",
      "  % delta_t_median)\n"
     ]
    },
    {
     "name": "stdout",
     "output_type": "stream",
     "text": [
      "   3/4500 [..............................] - ETA: 24:43 - loss: 0.2826 - categorical_accuracy: 0.8900"
     ]
    },
    {
     "name": "stderr",
     "output_type": "stream",
     "text": [
      "/home/test/anaconda3/envs/tf_gpu/lib/python3.6/site-packages/keras/callbacks.py:122: UserWarning: Method on_batch_end() is slow compared to the batch update (0.272748). Check your callbacks.\n",
      "  % delta_t_median)\n",
      "/home/test/anaconda3/envs/tf_gpu/lib/python3.6/site-packages/keras/callbacks.py:122: UserWarning: Method on_batch_end() is slow compared to the batch update (0.342256). Check your callbacks.\n",
      "  % delta_t_median)\n"
     ]
    },
    {
     "name": "stdout",
     "output_type": "stream",
     "text": [
      "   7/4500 [..............................] - ETA: 22:38 - loss: 0.2850 - categorical_accuracy: 0.8814"
     ]
    },
    {
     "name": "stderr",
     "output_type": "stream",
     "text": [
      "/home/test/anaconda3/envs/tf_gpu/lib/python3.6/site-packages/keras/callbacks.py:122: UserWarning: Method on_batch_end() is slow compared to the batch update (0.105406). Check your callbacks.\n",
      "  % delta_t_median)\n"
     ]
    },
    {
     "name": "stdout",
     "output_type": "stream",
     "text": [
      "4500/4500 [==============================] - 760s 169ms/step - loss: 0.2928 - categorical_accuracy: 0.8720 - val_loss: 0.4437 - val_categorical_accuracy: 0.8105\n",
      "(50000, 2)\n",
      "              precision    recall  f1-score   support\n",
      "\n",
      "           0     0.8373    0.7090    0.7678     22093\n",
      "           1     0.7945    0.8910    0.8400     27907\n",
      "\n",
      "   micro avg     0.8105    0.8105    0.8105     50000\n",
      "   macro avg     0.8159    0.8000    0.8039     50000\n",
      "weighted avg     0.8134    0.8105    0.8081     50000\n",
      " samples avg     0.8105    0.8105    0.8105     50000\n",
      "\n",
      "__________________________________________________________________________________________________\n",
      "Layer (type)                    Output Shape         Param #     Connected to                     \n",
      "==================================================================================================\n",
      "input_14 (InputLayer)           (None, 50)           0                                            \n",
      "__________________________________________________________________________________________________\n",
      "embedding_7 (Embedding)         (None, 50, 300)      6000000     input_14[0][0]                   \n",
      "__________________________________________________________________________________________________\n",
      "input_13 (InputLayer)           (None, 50, 1024)     0                                            \n",
      "__________________________________________________________________________________________________\n",
      "concatenate_7 (Concatenate)     (None, 50, 1324)     0           embedding_7[0][0]                \n",
      "                                                                 input_13[0][0]                   \n",
      "__________________________________________________________________________________________________\n",
      "conv1d_19 (Conv1D)              (None, 46, 128)      847488      concatenate_7[0][0]              \n",
      "__________________________________________________________________________________________________\n",
      "max_pooling1d_19 (MaxPooling1D) (None, 23, 128)      0           conv1d_19[0][0]                  \n",
      "__________________________________________________________________________________________________\n",
      "conv1d_20 (Conv1D)              (None, 19, 128)      82048       max_pooling1d_19[0][0]           \n",
      "__________________________________________________________________________________________________\n",
      "max_pooling1d_20 (MaxPooling1D) (None, 9, 128)       0           conv1d_20[0][0]                  \n",
      "__________________________________________________________________________________________________\n",
      "conv1d_21 (Conv1D)              (None, 5, 128)       82048       max_pooling1d_20[0][0]           \n",
      "__________________________________________________________________________________________________\n",
      "max_pooling1d_21 (MaxPooling1D) (None, 1, 128)       0           conv1d_21[0][0]                  \n",
      "__________________________________________________________________________________________________\n",
      "flatten_7 (Flatten)             (None, 128)          0           max_pooling1d_21[0][0]           \n",
      "__________________________________________________________________________________________________\n",
      "dense_13 (Dense)                (None, 128)          16512       flatten_7[0][0]                  \n",
      "__________________________________________________________________________________________________\n",
      "dense_14 (Dense)                (None, 2)            258         dense_13[0][0]                   \n",
      "==================================================================================================\n",
      "Total params: 7,028,354\n",
      "Trainable params: 7,028,354\n",
      "Non-trainable params: 0\n",
      "__________________________________________________________________________________________________\n",
      "None\n",
      "Epoch 1/5\n",
      "4500/4500 [==============================] - 867s 193ms/step - loss: 0.4763 - categorical_accuracy: 0.7671 - val_loss: 0.4285 - val_categorical_accuracy: 0.7968\n",
      "Epoch 2/5\n",
      "4500/4500 [==============================] - 831s 185ms/step - loss: 0.4058 - categorical_accuracy: 0.8111 - val_loss: 0.4080 - val_categorical_accuracy: 0.8080\n",
      "Epoch 3/5\n",
      "   2/4500 [..............................] - ETA: 24:03 - loss: 0.4158 - categorical_accuracy: 0.8200"
     ]
    },
    {
     "name": "stderr",
     "output_type": "stream",
     "text": [
      "/home/test/anaconda3/envs/tf_gpu/lib/python3.6/site-packages/keras/callbacks.py:122: UserWarning: Method on_batch_end() is slow compared to the batch update (0.423498). Check your callbacks.\n",
      "  % delta_t_median)\n"
     ]
    },
    {
     "name": "stdout",
     "output_type": "stream",
     "text": [
      "   5/4500 [..............................] - ETA: 23:16 - loss: 0.3741 - categorical_accuracy: 0.8260"
     ]
    },
    {
     "name": "stderr",
     "output_type": "stream",
     "text": [
      "/home/test/anaconda3/envs/tf_gpu/lib/python3.6/site-packages/keras/callbacks.py:122: UserWarning: Method on_batch_end() is slow compared to the batch update (0.271755). Check your callbacks.\n",
      "  % delta_t_median)\n",
      "/home/test/anaconda3/envs/tf_gpu/lib/python3.6/site-packages/keras/callbacks.py:122: UserWarning: Method on_batch_end() is slow compared to the batch update (0.326711). Check your callbacks.\n",
      "  % delta_t_median)\n",
      "/home/test/anaconda3/envs/tf_gpu/lib/python3.6/site-packages/keras/callbacks.py:122: UserWarning: Method on_batch_end() is slow compared to the batch update (0.223362). Check your callbacks.\n",
      "  % delta_t_median)\n",
      "/home/test/anaconda3/envs/tf_gpu/lib/python3.6/site-packages/keras/callbacks.py:122: UserWarning: Method on_batch_end() is slow compared to the batch update (0.120012). Check your callbacks.\n",
      "  % delta_t_median)\n"
     ]
    },
    {
     "name": "stdout",
     "output_type": "stream",
     "text": [
      "   6/4500 [..............................] - ETA: 20:57 - loss: 0.3707 - categorical_accuracy: 0.8283"
     ]
    },
    {
     "name": "stderr",
     "output_type": "stream",
     "text": [
      "/home/test/anaconda3/envs/tf_gpu/lib/python3.6/site-packages/keras/callbacks.py:122: UserWarning: Method on_batch_end() is slow compared to the batch update (0.118211). Check your callbacks.\n",
      "  % delta_t_median)\n"
     ]
    },
    {
     "name": "stdout",
     "output_type": "stream",
     "text": [
      "4500/4500 [==============================] - 795s 177ms/step - loss: 0.3689 - categorical_accuracy: 0.8321 - val_loss: 0.4046 - val_categorical_accuracy: 0.8110\n",
      "Epoch 4/5\n",
      "   2/4500 [..............................] - ETA: 21:17 - loss: 0.2881 - categorical_accuracy: 0.8900"
     ]
    },
    {
     "name": "stderr",
     "output_type": "stream",
     "text": [
      "/home/test/anaconda3/envs/tf_gpu/lib/python3.6/site-packages/keras/callbacks.py:122: UserWarning: Method on_batch_end() is slow compared to the batch update (0.245870). Check your callbacks.\n",
      "  % delta_t_median)\n"
     ]
    },
    {
     "name": "stdout",
     "output_type": "stream",
     "text": [
      "4500/4500 [==============================] - 770s 171ms/step - loss: 0.3305 - categorical_accuracy: 0.8531 - val_loss: 0.4222 - val_categorical_accuracy: 0.8101\n",
      "Epoch 5/5\n",
      "   2/4500 [..............................] - ETA: 16:50 - loss: 0.2475 - categorical_accuracy: 0.9000"
     ]
    },
    {
     "name": "stderr",
     "output_type": "stream",
     "text": [
      "/home/test/anaconda3/envs/tf_gpu/lib/python3.6/site-packages/keras/callbacks.py:122: UserWarning: Method on_batch_end() is slow compared to the batch update (0.231224). Check your callbacks.\n",
      "  % delta_t_median)\n",
      "/home/test/anaconda3/envs/tf_gpu/lib/python3.6/site-packages/keras/callbacks.py:122: UserWarning: Method on_batch_end() is slow compared to the batch update (0.117038). Check your callbacks.\n",
      "  % delta_t_median)\n"
     ]
    },
    {
     "name": "stdout",
     "output_type": "stream",
     "text": [
      "   4/4500 [..............................] - ETA: 22:40 - loss: 0.2796 - categorical_accuracy: 0.8800"
     ]
    },
    {
     "name": "stderr",
     "output_type": "stream",
     "text": [
      "/home/test/anaconda3/envs/tf_gpu/lib/python3.6/site-packages/keras/callbacks.py:122: UserWarning: Method on_batch_end() is slow compared to the batch update (0.210363). Check your callbacks.\n",
      "  % delta_t_median)\n"
     ]
    },
    {
     "name": "stdout",
     "output_type": "stream",
     "text": [
      "   6/4500 [..............................] - ETA: 27:28 - loss: 0.2692 - categorical_accuracy: 0.8867"
     ]
    },
    {
     "name": "stderr",
     "output_type": "stream",
     "text": [
      "/home/test/anaconda3/envs/tf_gpu/lib/python3.6/site-packages/keras/callbacks.py:122: UserWarning: Method on_batch_end() is slow compared to the batch update (0.217387). Check your callbacks.\n",
      "  % delta_t_median)\n"
     ]
    },
    {
     "name": "stdout",
     "output_type": "stream",
     "text": [
      "   9/4500 [..............................] - ETA: 23:02 - loss: 0.2845 - categorical_accuracy: 0.8778"
     ]
    },
    {
     "name": "stderr",
     "output_type": "stream",
     "text": [
      "/home/test/anaconda3/envs/tf_gpu/lib/python3.6/site-packages/keras/callbacks.py:122: UserWarning: Method on_batch_end() is slow compared to the batch update (0.222504). Check your callbacks.\n",
      "  % delta_t_median)\n"
     ]
    },
    {
     "name": "stdout",
     "output_type": "stream",
     "text": [
      "  10/4500 [..............................] - ETA: 21:39 - loss: 0.2818 - categorical_accuracy: 0.8800"
     ]
    },
    {
     "name": "stderr",
     "output_type": "stream",
     "text": [
      "/home/test/anaconda3/envs/tf_gpu/lib/python3.6/site-packages/keras/callbacks.py:122: UserWarning: Method on_batch_end() is slow compared to the batch update (0.203338). Check your callbacks.\n",
      "  % delta_t_median)\n",
      "/home/test/anaconda3/envs/tf_gpu/lib/python3.6/site-packages/keras/callbacks.py:122: UserWarning: Method on_batch_end() is slow compared to the batch update (0.107215). Check your callbacks.\n",
      "  % delta_t_median)\n"
     ]
    },
    {
     "name": "stdout",
     "output_type": "stream",
     "text": [
      "4500/4500 [==============================] - 888s 197ms/step - loss: 0.2904 - categorical_accuracy: 0.8743 - val_loss: 0.4406 - val_categorical_accuracy: 0.8083\n",
      "(50000, 2)\n",
      "              precision    recall  f1-score   support\n",
      "\n",
      "           0     0.8250    0.7146    0.7659     21934\n",
      "           1     0.7981    0.8816    0.8377     28066\n",
      "\n",
      "   micro avg     0.8083    0.8083    0.8083     50000\n",
      "   macro avg     0.8116    0.7981    0.8018     50000\n",
      "weighted avg     0.8099    0.8083    0.8062     50000\n",
      " samples avg     0.8083    0.8083    0.8083     50000\n",
      "\n",
      "__________________________________________________________________________________________________\n",
      "Layer (type)                    Output Shape         Param #     Connected to                     \n",
      "==================================================================================================\n",
      "input_16 (InputLayer)           (None, 50)           0                                            \n",
      "__________________________________________________________________________________________________\n",
      "embedding_8 (Embedding)         (None, 50, 300)      6000000     input_16[0][0]                   \n",
      "__________________________________________________________________________________________________\n",
      "input_15 (InputLayer)           (None, 50, 1024)     0                                            \n",
      "__________________________________________________________________________________________________\n",
      "concatenate_8 (Concatenate)     (None, 50, 1324)     0           embedding_8[0][0]                \n",
      "                                                                 input_15[0][0]                   \n",
      "__________________________________________________________________________________________________\n",
      "conv1d_22 (Conv1D)              (None, 46, 128)      847488      concatenate_8[0][0]              \n",
      "__________________________________________________________________________________________________\n",
      "max_pooling1d_22 (MaxPooling1D) (None, 23, 128)      0           conv1d_22[0][0]                  \n",
      "__________________________________________________________________________________________________\n",
      "conv1d_23 (Conv1D)              (None, 19, 128)      82048       max_pooling1d_22[0][0]           \n",
      "__________________________________________________________________________________________________\n",
      "max_pooling1d_23 (MaxPooling1D) (None, 9, 128)       0           conv1d_23[0][0]                  \n",
      "__________________________________________________________________________________________________\n",
      "conv1d_24 (Conv1D)              (None, 5, 128)       82048       max_pooling1d_23[0][0]           \n",
      "__________________________________________________________________________________________________\n",
      "max_pooling1d_24 (MaxPooling1D) (None, 1, 128)       0           conv1d_24[0][0]                  \n",
      "__________________________________________________________________________________________________\n",
      "flatten_8 (Flatten)             (None, 128)          0           max_pooling1d_24[0][0]           \n",
      "__________________________________________________________________________________________________\n",
      "dense_15 (Dense)                (None, 128)          16512       flatten_8[0][0]                  \n",
      "__________________________________________________________________________________________________\n",
      "dense_16 (Dense)                (None, 2)            258         dense_15[0][0]                   \n",
      "==================================================================================================\n",
      "Total params: 7,028,354\n",
      "Trainable params: 7,028,354\n",
      "Non-trainable params: 0\n",
      "__________________________________________________________________________________________________\n",
      "None\n",
      "Epoch 1/5\n",
      "4500/4500 [==============================] - 824s 183ms/step - loss: 0.4718 - categorical_accuracy: 0.7700 - val_loss: 0.4294 - val_categorical_accuracy: 0.7978\n",
      "Epoch 2/5\n",
      "4500/4500 [==============================] - 798s 177ms/step - loss: 0.4045 - categorical_accuracy: 0.8112 - val_loss: 0.4145 - val_categorical_accuracy: 0.8075\n",
      "Epoch 3/5\n",
      "   2/4500 [..............................] - ETA: 25:44 - loss: 0.4330 - categorical_accuracy: 0.7700"
     ]
    },
    {
     "name": "stderr",
     "output_type": "stream",
     "text": [
      "/home/test/anaconda3/envs/tf_gpu/lib/python3.6/site-packages/keras/callbacks.py:122: UserWarning: Method on_batch_end() is slow compared to the batch update (0.227433). Check your callbacks.\n",
      "  % delta_t_median)\n",
      "/home/test/anaconda3/envs/tf_gpu/lib/python3.6/site-packages/keras/callbacks.py:122: UserWarning: Method on_batch_end() is slow compared to the batch update (0.120199). Check your callbacks.\n",
      "  % delta_t_median)\n"
     ]
    },
    {
     "name": "stdout",
     "output_type": "stream",
     "text": [
      "   6/4500 [..............................] - ETA: 22:24 - loss: 0.3812 - categorical_accuracy: 0.8167"
     ]
    },
    {
     "name": "stderr",
     "output_type": "stream",
     "text": [
      "/home/test/anaconda3/envs/tf_gpu/lib/python3.6/site-packages/keras/callbacks.py:122: UserWarning: Method on_batch_end() is slow compared to the batch update (0.199417). Check your callbacks.\n",
      "  % delta_t_median)\n",
      "/home/test/anaconda3/envs/tf_gpu/lib/python3.6/site-packages/keras/callbacks.py:122: UserWarning: Method on_batch_end() is slow compared to the batch update (0.169741). Check your callbacks.\n",
      "  % delta_t_median)\n"
     ]
    },
    {
     "name": "stdout",
     "output_type": "stream",
     "text": [
      "  10/4500 [..............................] - ETA: 19:28 - loss: 0.3758 - categorical_accuracy: 0.822"
     ]
    },
    {
     "name": "stderr",
     "output_type": "stream",
     "text": [
      "/home/test/anaconda3/envs/tf_gpu/lib/python3.6/site-packages/keras/callbacks.py:122: UserWarning: Method on_batch_end() is slow compared to the batch update (0.140065). Check your callbacks.\n",
      "  % delta_t_median)\n"
     ]
    },
    {
     "name": "stdout",
     "output_type": "stream",
     "text": [
      "4500/4500 [==============================] - 759s 169ms/step - loss: 0.3678 - categorical_accuracy: 0.8327 - val_loss: 0.4133 - val_categorical_accuracy: 0.8108\n",
      "Epoch 4/5\n",
      "   3/4500 [..............................] - ETA: 26:01 - loss: 0.3467 - categorical_accuracy: 0.8533"
     ]
    },
    {
     "name": "stderr",
     "output_type": "stream",
     "text": [
      "/home/test/anaconda3/envs/tf_gpu/lib/python3.6/site-packages/keras/callbacks.py:122: UserWarning: Method on_batch_end() is slow compared to the batch update (0.382390). Check your callbacks.\n",
      "  % delta_t_median)\n"
     ]
    },
    {
     "name": "stdout",
     "output_type": "stream",
     "text": [
      "4500/4500 [==============================] - 885s 197ms/step - loss: 0.3300 - categorical_accuracy: 0.8534 - val_loss: 0.4323 - val_categorical_accuracy: 0.8135\n",
      "Epoch 5/5\n",
      "   3/4500 [..............................] - ETA: 19:16 - loss: 0.2714 - categorical_accuracy: 0.8900"
     ]
    },
    {
     "name": "stderr",
     "output_type": "stream",
     "text": [
      "/home/test/anaconda3/envs/tf_gpu/lib/python3.6/site-packages/keras/callbacks.py:122: UserWarning: Method on_batch_end() is slow compared to the batch update (0.163754). Check your callbacks.\n",
      "  % delta_t_median)\n"
     ]
    },
    {
     "name": "stdout",
     "output_type": "stream",
     "text": [
      "   6/4500 [..............................] - ETA: 17:46 - loss: 0.2863 - categorical_accuracy: 0.8817"
     ]
    },
    {
     "name": "stderr",
     "output_type": "stream",
     "text": [
      "/home/test/anaconda3/envs/tf_gpu/lib/python3.6/site-packages/keras/callbacks.py:122: UserWarning: Method on_batch_end() is slow compared to the batch update (0.120566). Check your callbacks.\n",
      "  % delta_t_median)\n"
     ]
    },
    {
     "name": "stdout",
     "output_type": "stream",
     "text": [
      "4500/4500 [==============================] - 861s 191ms/step - loss: 0.2904 - categorical_accuracy: 0.8749 - val_loss: 0.4352 - val_categorical_accuracy: 0.8127\n",
      "(50000, 2)\n",
      "              precision    recall  f1-score   support\n",
      "\n",
      "           0     0.8680    0.6762    0.7602     21953\n",
      "           1     0.7839    0.9195    0.8463     28047\n",
      "\n",
      "   micro avg     0.8127    0.8127    0.8127     50000\n",
      "   macro avg     0.8260    0.7979    0.8033     50000\n",
      "weighted avg     0.8208    0.8127    0.8085     50000\n",
      " samples avg     0.8127    0.8127    0.8127     50000\n",
      "\n",
      "__________________________________________________________________________________________________\n",
      "Layer (type)                    Output Shape         Param #     Connected to                     \n",
      "==================================================================================================\n",
      "input_18 (InputLayer)           (None, 50)           0                                            \n",
      "__________________________________________________________________________________________________\n",
      "embedding_9 (Embedding)         (None, 50, 300)      6000000     input_18[0][0]                   \n",
      "__________________________________________________________________________________________________\n",
      "input_17 (InputLayer)           (None, 50, 1024)     0                                            \n",
      "__________________________________________________________________________________________________\n",
      "concatenate_9 (Concatenate)     (None, 50, 1324)     0           embedding_9[0][0]                \n",
      "                                                                 input_17[0][0]                   \n",
      "__________________________________________________________________________________________________\n",
      "conv1d_25 (Conv1D)              (None, 46, 128)      847488      concatenate_9[0][0]              \n",
      "__________________________________________________________________________________________________\n",
      "max_pooling1d_25 (MaxPooling1D) (None, 23, 128)      0           conv1d_25[0][0]                  \n",
      "__________________________________________________________________________________________________\n",
      "conv1d_26 (Conv1D)              (None, 19, 128)      82048       max_pooling1d_25[0][0]           \n",
      "__________________________________________________________________________________________________\n",
      "max_pooling1d_26 (MaxPooling1D) (None, 9, 128)       0           conv1d_26[0][0]                  \n",
      "__________________________________________________________________________________________________\n",
      "conv1d_27 (Conv1D)              (None, 5, 128)       82048       max_pooling1d_26[0][0]           \n",
      "__________________________________________________________________________________________________\n",
      "max_pooling1d_27 (MaxPooling1D) (None, 1, 128)       0           conv1d_27[0][0]                  \n",
      "__________________________________________________________________________________________________\n",
      "flatten_9 (Flatten)             (None, 128)          0           max_pooling1d_27[0][0]           \n",
      "__________________________________________________________________________________________________\n",
      "dense_17 (Dense)                (None, 128)          16512       flatten_9[0][0]                  \n",
      "__________________________________________________________________________________________________\n",
      "dense_18 (Dense)                (None, 2)            258         dense_17[0][0]                   \n",
      "==================================================================================================\n",
      "Total params: 7,028,354\n",
      "Trainable params: 7,028,354\n",
      "Non-trainable params: 0\n",
      "__________________________________________________________________________________________________\n",
      "None\n",
      "Epoch 1/5\n",
      "4500/4500 [==============================] - 761s 169ms/step - loss: 0.4718 - categorical_accuracy: 0.7709 - val_loss: 0.4292 - val_categorical_accuracy: 0.7949\n",
      "Epoch 2/5\n",
      "4500/4500 [==============================] - 791s 176ms/step - loss: 0.4013 - categorical_accuracy: 0.8130 - val_loss: 0.4098 - val_categorical_accuracy: 0.8088\n",
      "Epoch 3/5\n",
      "   2/4500 [..............................] - ETA: 20:56 - loss: 0.3698 - categorical_accuracy: 0.8650"
     ]
    },
    {
     "name": "stderr",
     "output_type": "stream",
     "text": [
      "/home/test/anaconda3/envs/tf_gpu/lib/python3.6/site-packages/keras/callbacks.py:122: UserWarning: Method on_batch_end() is slow compared to the batch update (0.212527). Check your callbacks.\n",
      "  % delta_t_median)\n"
     ]
    },
    {
     "name": "stdout",
     "output_type": "stream",
     "text": [
      "   5/4500 [..............................] - ETA: 23:08 - loss: 0.3968 - categorical_accuracy: 0.8420"
     ]
    },
    {
     "name": "stderr",
     "output_type": "stream",
     "text": [
      "/home/test/anaconda3/envs/tf_gpu/lib/python3.6/site-packages/keras/callbacks.py:122: UserWarning: Method on_batch_end() is slow compared to the batch update (0.105987). Check your callbacks.\n",
      "  % delta_t_median)\n"
     ]
    },
    {
     "name": "stdout",
     "output_type": "stream",
     "text": [
      "4500/4500 [==============================] - 863s 192ms/step - loss: 0.3652 - categorical_accuracy: 0.8340 - val_loss: 0.4057 - val_categorical_accuracy: 0.8111\n",
      "Epoch 4/5\n",
      "   1/4500 [..............................] - ETA: 7:47 - loss: 0.2700 - categorical_accuracy: 0.8800"
     ]
    },
    {
     "name": "stderr",
     "output_type": "stream",
     "text": [
      "/home/test/anaconda3/envs/tf_gpu/lib/python3.6/site-packages/keras/callbacks.py:122: UserWarning: Method on_batch_end() is slow compared to the batch update (0.234723). Check your callbacks.\n",
      "  % delta_t_median)\n"
     ]
    },
    {
     "name": "stdout",
     "output_type": "stream",
     "text": [
      "4500/4500 [==============================] - 866s 192ms/step - loss: 0.3275 - categorical_accuracy: 0.8545 - val_loss: 0.4198 - val_categorical_accuracy: 0.8114\n",
      "Epoch 5/5\n",
      "   2/4500 [..............................] - ETA: 17:11 - loss: 0.3294 - categorical_accuracy: 0.8550"
     ]
    },
    {
     "name": "stderr",
     "output_type": "stream",
     "text": [
      "/home/test/anaconda3/envs/tf_gpu/lib/python3.6/site-packages/keras/callbacks.py:122: UserWarning: Method on_batch_end() is slow compared to the batch update (0.158430). Check your callbacks.\n",
      "  % delta_t_median)\n"
     ]
    },
    {
     "name": "stdout",
     "output_type": "stream",
     "text": [
      "   5/4500 [..............................] - ETA: 19:47 - loss: 0.3045 - categorical_accuracy: 0.8740"
     ]
    },
    {
     "name": "stderr",
     "output_type": "stream",
     "text": [
      "/home/test/anaconda3/envs/tf_gpu/lib/python3.6/site-packages/keras/callbacks.py:122: UserWarning: Method on_batch_end() is slow compared to the batch update (0.127580). Check your callbacks.\n",
      "  % delta_t_median)\n",
      "/home/test/anaconda3/envs/tf_gpu/lib/python3.6/site-packages/keras/callbacks.py:122: UserWarning: Method on_batch_end() is slow compared to the batch update (0.104003). Check your callbacks.\n",
      "  % delta_t_median)\n"
     ]
    },
    {
     "name": "stdout",
     "output_type": "stream",
     "text": [
      "   8/4500 [..............................] - ETA: 19:01 - loss: 0.2953 - categorical_accuracy: 0.8762"
     ]
    },
    {
     "name": "stderr",
     "output_type": "stream",
     "text": [
      "/home/test/anaconda3/envs/tf_gpu/lib/python3.6/site-packages/keras/callbacks.py:122: UserWarning: Method on_batch_end() is slow compared to the batch update (0.115792). Check your callbacks.\n",
      "  % delta_t_median)\n"
     ]
    },
    {
     "name": "stdout",
     "output_type": "stream",
     "text": [
      "2953/4500 [==================>...........] - ETA: 4:07 - loss: 0.2857 - categorical_accuracy: 0.8766"
     ]
    }
   ],
   "source": [
    "import time\n",
    "precisions = []\n",
    "recalls = []\n",
    "f1s = []\n",
    "times = []\n",
    "datasize = 500000\n",
    "batchSize=100\n",
    "for train, test in kfold.split([None] * datasize):\n",
    "    # Let's train our 3-layer CNN with embedding combinations, MAX_SEQUENCE_LENGTH 200, and usin preprocessing\n",
    "    embedded_sequences = Input(shape=(max_sequence_length,embedding_size,), dtype=\"float32\")\n",
    "    \n",
    "    sequence_input = Input(shape=(max_sequence_length,), dtype=\"int32\")\n",
    "    modelRandom = Embedding(len(word_index)+1, 300, embeddings_initializer=\"normal\", input_length=max_sequence_length, trainable=True)(sequence_input)      \n",
    "    \n",
    "    modelMergeEmbeddings = Concatenate()([modelRandom, embedded_sequences])\n",
    "\n",
    "    x = Conv1D(128, 5, activation=\"relu\")(modelMergeEmbeddings)\n",
    "    x = MaxPooling1D(2)(x)\n",
    "    x = Conv1D(128, 5, activation=\"relu\")(x)\n",
    "    x = MaxPooling1D(2)(x)\n",
    "    x = Conv1D(128, 5, activation=\"relu\")(x)\n",
    "    x = MaxPooling1D(4)(x)\n",
    "    x = Flatten()(x)\n",
    "    #x = Dropout(0.2)(x)\n",
    "    x = Dense(128, activation=\"relu\")(x)\n",
    "    #x = Dropout(0.2)(x)\n",
    "    preds = Dense(2, activation=\"softmax\")(x)\n",
    "    model = Model([embedded_sequences, sequence_input], preds)\n",
    "    model.compile(loss=\"binary_crossentropy\", optimizer=\"adam\", metrics=[categorical_accuracy])\n",
    "    print (model.summary())\n",
    "    \n",
    "    t0 = time.time()\n",
    "    model.fit_generator(gen_elmo_tweets_embeddings (h5path,train,batchSize=batchSize,shuffle=True,data=data), \n",
    "                        validation_data=gen_elmo_tweets_embeddings(h5path, test, batchSize=batchSize,shuffle=False,data=data), \n",
    "                        steps_per_epoch = len(train)//batchSize,  \n",
    "                        validation_steps = len(test)//batchSize, \n",
    "                        epochs=5)\n",
    "    t1 = time.time()\n",
    "    times.append(t1-t0)\n",
    "    \n",
    "    db = h5py.File(h5path, \"r\")\n",
    "    labels_test = db[\"labels\"][test,:]\n",
    "    db.close()\n",
    "\n",
    "    # Evaluate the model assigning zeros and ones according to a threshold\n",
    "    pred = model.predict_generator(gen_elmo_tweets_embeddings(h5path, test, batchSize=batchSize,shuffle=False,data=data),steps = len(test)//batchSize)\n",
    "    print(pred.shape)\n",
    "    pred[pred >= 0.5] = 1\n",
    "    pred[pred < 0.5] = 0\n",
    "    print(classification_report(labels_test, pred,digits=4))\n",
    "    precisions.append(precision_score(labels_test, pred, average=\"weighted\"))\n",
    "    recalls.append(recall_score(labels_test, pred, average=\"weighted\"))\n",
    "    f1s.append(f1_score(labels_test, pred, average=\"weighted\"))\n",
    "print(\"Precision: %.4f (+/- %.4f)\" % (np.mean(precisions), np.std(precisions)))\n",
    "print(\"Recall: %.4f (+/- %.4f)\" % (np.mean(recalls), np.std(recalls)))\n",
    "print(\"F1 Score: %.4f (+/- %.4f)\" % (np.mean(f1s), np.std(f1s)))\n",
    "print(\"Training time: %.4f (+/- %.4f)\" % (np.mean(times), np.std(times)))"
   ]
  },
  {
   "cell_type": "code",
   "execution_count": 11,
   "metadata": {},
   "outputs": [
    {
     "name": "stdout",
     "output_type": "stream",
     "text": [
      "Precision: 0.8125 (+/- 0.0039)\n",
      "Recall: 0.8097 (+/- 0.0028)\n",
      "F1 Score: 0.8073 (+/- 0.0027)\n",
      "Training time: 4079.3108 (+/- 46.7983)\n"
     ]
    }
   ],
   "source": [
    "print(\"Precision: %.4f (+/- %.4f)\" % (np.mean(precisions), np.std(precisions)))\n",
    "print(\"Recall: %.4f (+/- %.4f)\" % (np.mean(recalls), np.std(recalls)))\n",
    "print(\"F1 Score: %.4f (+/- %.4f)\" % (np.mean(f1s), np.std(f1s)))\n",
    "print(\"Training time: %.4f (+/- %.4f)\" % (np.mean(times), np.std(times)))"
   ]
  }
 ],
 "metadata": {
  "kernelspec": {
   "display_name": "Python (tf_gpu)",
   "language": "python",
   "name": "tf_gpu"
  },
  "language_info": {
   "codemirror_mode": {
    "name": "ipython",
    "version": 3
   },
   "file_extension": ".py",
   "mimetype": "text/x-python",
   "name": "python",
   "nbconvert_exporter": "python",
   "pygments_lexer": "ipython3",
   "version": "3.6.8"
  }
 },
 "nbformat": 4,
 "nbformat_minor": 2
}
