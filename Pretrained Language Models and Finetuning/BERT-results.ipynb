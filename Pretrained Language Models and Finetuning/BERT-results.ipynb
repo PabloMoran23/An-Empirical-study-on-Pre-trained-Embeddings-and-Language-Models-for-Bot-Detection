{
 "cells": [
  {
   "cell_type": "code",
   "execution_count": 2,
   "metadata": {
    "collapsed": true
   },
   "outputs": [],
   "source": [
    "import pandas as pd\n",
    "import numpy as np\n",
    "from sklearn.metrics import classification_report, f1_score, precision_score, recall_score, accuracy_score"
   ]
  },
  {
   "cell_type": "code",
   "execution_count": 25,
   "metadata": {
    "collapsed": true
   },
   "outputs": [],
   "source": [
    "results='./results-output/test_results.tsv'\n",
    "labels='../data/GPT2/dev.tsv'"
   ]
  },
  {
   "cell_type": "code",
   "execution_count": 26,
   "metadata": {},
   "outputs": [],
   "source": [
    "results_data = pd.read_csv(results,sep='\\t',header=None)"
   ]
  },
  {
   "cell_type": "code",
   "execution_count": 27,
   "metadata": {},
   "outputs": [
    {
     "data": {
      "text/html": [
       "<div>\n",
       "<style scoped>\n",
       "    .dataframe tbody tr th:only-of-type {\n",
       "        vertical-align: middle;\n",
       "    }\n",
       "\n",
       "    .dataframe tbody tr th {\n",
       "        vertical-align: top;\n",
       "    }\n",
       "\n",
       "    .dataframe thead th {\n",
       "        text-align: right;\n",
       "    }\n",
       "</style>\n",
       "<table border=\"1\" class=\"dataframe\">\n",
       "  <thead>\n",
       "    <tr style=\"text-align: right;\">\n",
       "      <th></th>\n",
       "      <th>0</th>\n",
       "      <th>1</th>\n",
       "    </tr>\n",
       "  </thead>\n",
       "  <tbody>\n",
       "    <tr>\n",
       "      <td>0</td>\n",
       "      <td>0.000045</td>\n",
       "      <td>0.999955</td>\n",
       "    </tr>\n",
       "    <tr>\n",
       "      <td>1</td>\n",
       "      <td>0.999882</td>\n",
       "      <td>0.000118</td>\n",
       "    </tr>\n",
       "    <tr>\n",
       "      <td>2</td>\n",
       "      <td>0.000056</td>\n",
       "      <td>0.999944</td>\n",
       "    </tr>\n",
       "    <tr>\n",
       "      <td>3</td>\n",
       "      <td>0.999877</td>\n",
       "      <td>0.000123</td>\n",
       "    </tr>\n",
       "    <tr>\n",
       "      <td>4</td>\n",
       "      <td>0.901299</td>\n",
       "      <td>0.098701</td>\n",
       "    </tr>\n",
       "    <tr>\n",
       "      <td>...</td>\n",
       "      <td>...</td>\n",
       "      <td>...</td>\n",
       "    </tr>\n",
       "    <tr>\n",
       "      <td>99995</td>\n",
       "      <td>0.759087</td>\n",
       "      <td>0.240913</td>\n",
       "    </tr>\n",
       "    <tr>\n",
       "      <td>99996</td>\n",
       "      <td>0.998909</td>\n",
       "      <td>0.001091</td>\n",
       "    </tr>\n",
       "    <tr>\n",
       "      <td>99997</td>\n",
       "      <td>0.972593</td>\n",
       "      <td>0.027407</td>\n",
       "    </tr>\n",
       "    <tr>\n",
       "      <td>99998</td>\n",
       "      <td>0.000052</td>\n",
       "      <td>0.999948</td>\n",
       "    </tr>\n",
       "    <tr>\n",
       "      <td>99999</td>\n",
       "      <td>0.005550</td>\n",
       "      <td>0.994450</td>\n",
       "    </tr>\n",
       "  </tbody>\n",
       "</table>\n",
       "<p>100000 rows × 2 columns</p>\n",
       "</div>"
      ],
      "text/plain": [
       "              0         1\n",
       "0      0.000045  0.999955\n",
       "1      0.999882  0.000118\n",
       "2      0.000056  0.999944\n",
       "3      0.999877  0.000123\n",
       "4      0.901299  0.098701\n",
       "...         ...       ...\n",
       "99995  0.759087  0.240913\n",
       "99996  0.998909  0.001091\n",
       "99997  0.972593  0.027407\n",
       "99998  0.000052  0.999948\n",
       "99999  0.005550  0.994450\n",
       "\n",
       "[100000 rows x 2 columns]"
      ]
     },
     "execution_count": 27,
     "metadata": {},
     "output_type": "execute_result"
    }
   ],
   "source": [
    "results_data"
   ]
  },
  {
   "cell_type": "code",
   "execution_count": 17,
   "metadata": {
    "collapsed": true
   },
   "outputs": [],
   "source": [
    "labels = pd.read_csv(labels,sep='\\t',header=None)"
   ]
  },
  {
   "cell_type": "code",
   "execution_count": 18,
   "metadata": {},
   "outputs": [
    {
     "data": {
      "text/html": [
       "<div>\n",
       "<style scoped>\n",
       "    .dataframe tbody tr th:only-of-type {\n",
       "        vertical-align: middle;\n",
       "    }\n",
       "\n",
       "    .dataframe tbody tr th {\n",
       "        vertical-align: top;\n",
       "    }\n",
       "\n",
       "    .dataframe thead th {\n",
       "        text-align: right;\n",
       "    }\n",
       "</style>\n",
       "<table border=\"1\" class=\"dataframe\">\n",
       "  <thead>\n",
       "    <tr style=\"text-align: right;\">\n",
       "      <th></th>\n",
       "      <th>0</th>\n",
       "      <th>1</th>\n",
       "      <th>2</th>\n",
       "      <th>3</th>\n",
       "    </tr>\n",
       "  </thead>\n",
       "  <tbody>\n",
       "    <tr>\n",
       "      <td>0</td>\n",
       "      <td>bootliquor</td>\n",
       "      <td>1</td>\n",
       "      <td></td>\n",
       "      <td>Now Playing: ♬ Dick Curless - Evil Hearted Me ...</td>\n",
       "    </tr>\n",
       "    <tr>\n",
       "      <td>1</td>\n",
       "      <td>Ambitions1992</td>\n",
       "      <td>0</td>\n",
       "      <td></td>\n",
       "      <td>Not only are you comfortably swaddled in secur...</td>\n",
       "    </tr>\n",
       "    <tr>\n",
       "      <td>2</td>\n",
       "      <td>AriesWeAre</td>\n",
       "      <td>1</td>\n",
       "      <td></td>\n",
       "      <td>Follow @iAmMySign !!!  Follow @iAmMySign our o...</td>\n",
       "    </tr>\n",
       "    <tr>\n",
       "      <td>3</td>\n",
       "      <td>iamthemaven</td>\n",
       "      <td>0</td>\n",
       "      <td></td>\n",
       "      <td>These strawberry sandwich cookies are so easy ...</td>\n",
       "    </tr>\n",
       "    <tr>\n",
       "      <td>4</td>\n",
       "      <td>Hilarious_Idiot</td>\n",
       "      <td>0</td>\n",
       "      <td></td>\n",
       "      <td>Do These Two Lines Match Up On Your Hands Here...</td>\n",
       "    </tr>\n",
       "    <tr>\n",
       "      <td>...</td>\n",
       "      <td>...</td>\n",
       "      <td>...</td>\n",
       "      <td>...</td>\n",
       "      <td>...</td>\n",
       "    </tr>\n",
       "    <tr>\n",
       "      <td>99995</td>\n",
       "      <td>caneloacosta</td>\n",
       "      <td>0</td>\n",
       "      <td></td>\n",
       "      <td>I Love The World Cup !!</td>\n",
       "    </tr>\n",
       "    <tr>\n",
       "      <td>99996</td>\n",
       "      <td>hiddenboston</td>\n",
       "      <td>0</td>\n",
       "      <td></td>\n",
       "      <td>CONFIRMED: Today is it for the season for one ...</td>\n",
       "    </tr>\n",
       "    <tr>\n",
       "      <td>99997</td>\n",
       "      <td>BlaqueeStallion</td>\n",
       "      <td>0</td>\n",
       "      <td></td>\n",
       "      <td>Stack that paper up &amp;amp; then make boss moves...</td>\n",
       "    </tr>\n",
       "    <tr>\n",
       "      <td>99998</td>\n",
       "      <td>IntPicks</td>\n",
       "      <td>1</td>\n",
       "      <td></td>\n",
       "      <td>Wednesday Free Pick is Live! #freepicks #freet...</td>\n",
       "    </tr>\n",
       "    <tr>\n",
       "      <td>99999</td>\n",
       "      <td>BOS_DealFinder</td>\n",
       "      <td>1</td>\n",
       "      <td></td>\n",
       "      <td>Download Monster Hunter Generations Ultimate t...</td>\n",
       "    </tr>\n",
       "  </tbody>\n",
       "</table>\n",
       "<p>100000 rows × 4 columns</p>\n",
       "</div>"
      ],
      "text/plain": [
       "                     0  1  2  \\\n",
       "0           bootliquor  1      \n",
       "1        Ambitions1992  0      \n",
       "2           AriesWeAre  1      \n",
       "3          iamthemaven  0      \n",
       "4      Hilarious_Idiot  0      \n",
       "...                ... .. ..   \n",
       "99995     caneloacosta  0      \n",
       "99996     hiddenboston  0      \n",
       "99997  BlaqueeStallion  0      \n",
       "99998         IntPicks  1      \n",
       "99999   BOS_DealFinder  1      \n",
       "\n",
       "                                                       3  \n",
       "0      Now Playing: ♬ Dick Curless - Evil Hearted Me ...  \n",
       "1      Not only are you comfortably swaddled in secur...  \n",
       "2      Follow @iAmMySign !!!  Follow @iAmMySign our o...  \n",
       "3      These strawberry sandwich cookies are so easy ...  \n",
       "4      Do These Two Lines Match Up On Your Hands Here...  \n",
       "...                                                  ...  \n",
       "99995                            I Love The World Cup !!  \n",
       "99996  CONFIRMED: Today is it for the season for one ...  \n",
       "99997  Stack that paper up &amp; then make boss moves...  \n",
       "99998  Wednesday Free Pick is Live! #freepicks #freet...  \n",
       "99999  Download Monster Hunter Generations Ultimate t...  \n",
       "\n",
       "[100000 rows x 4 columns]"
      ]
     },
     "execution_count": 18,
     "metadata": {},
     "output_type": "execute_result"
    }
   ],
   "source": [
    "labels"
   ]
  },
  {
   "cell_type": "code",
   "execution_count": 28,
   "metadata": {
    "collapsed": true
   },
   "outputs": [],
   "source": [
    "results_data = np.argmax(results_data.values,axis=1)"
   ]
  },
  {
   "cell_type": "code",
   "execution_count": 29,
   "metadata": {},
   "outputs": [
    {
     "data": {
      "text/plain": [
       "array([1, 0, 1, ..., 0, 1, 1])"
      ]
     },
     "execution_count": 29,
     "metadata": {},
     "output_type": "execute_result"
    }
   ],
   "source": [
    "results_data"
   ]
  },
  {
   "cell_type": "code",
   "execution_count": 22,
   "metadata": {
    "collapsed": true
   },
   "outputs": [],
   "source": [
    "labels_data = labels[1].values"
   ]
  },
  {
   "cell_type": "code",
   "execution_count": 23,
   "metadata": {},
   "outputs": [
    {
     "data": {
      "text/plain": [
       "array([1, 0, 1, ..., 0, 1, 1])"
      ]
     },
     "execution_count": 23,
     "metadata": {},
     "output_type": "execute_result"
    }
   ],
   "source": [
    "labels_data"
   ]
  },
  {
   "cell_type": "code",
   "execution_count": 30,
   "metadata": {},
   "outputs": [
    {
     "name": "stdout",
     "output_type": "stream",
     "text": [
      "              precision    recall  f1-score   support\n",
      "\n",
      "           0       0.86      0.90      0.88     55712\n",
      "           1       0.86      0.81      0.84     44288\n",
      "\n",
      "    accuracy                           0.86    100000\n",
      "   macro avg       0.86      0.85      0.86    100000\n",
      "weighted avg       0.86      0.86      0.86    100000\n",
      "\n",
      "0.8585041343254908\n",
      "0.8591986269542322\n",
      "0.85904\n",
      "0.85904\n"
     ]
    }
   ],
   "source": [
    "print(classification_report(labels_data,results_data))\n",
    "print(f1_score(labels_data,results_data, average=\"weighted\"))\n",
    "print(precision_score(labels_data,results_data, average=\"weighted\"))\n",
    "print(recall_score(labels_data,results_data, average=\"weighted\"))\n",
    "print(accuracy_score(labels_data,results_data))"
   ]
  }
 ],
 "metadata": {
  "kernelspec": {
   "display_name": "Python [conda env:anaconda3]",
   "language": "python",
   "name": "conda-env-anaconda3-py"
  },
  "language_info": {
   "codemirror_mode": {
    "name": "ipython",
    "version": 3
   },
   "file_extension": ".py",
   "mimetype": "text/x-python",
   "name": "python",
   "nbconvert_exporter": "python",
   "pygments_lexer": "ipython3",
   "version": "3.6.9"
  }
 },
 "nbformat": 4,
 "nbformat_minor": 2
}
